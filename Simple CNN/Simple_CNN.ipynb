{
 "cells": [
  {
   "cell_type": "code",
   "execution_count": 2,
   "metadata": {},
   "outputs": [],
   "source": [
    "import tensorflow as tf\n",
    "from tensorflow.examples.tutorials.mnist import input_data"
   ]
  },
  {
   "cell_type": "code",
   "execution_count": 3,
   "metadata": {},
   "outputs": [
    {
     "name": "stdout",
     "output_type": "stream",
     "text": [
      "Extracting MNIST_data/train-images-idx3-ubyte.gz\n",
      "Extracting MNIST_data/train-labels-idx1-ubyte.gz\n",
      "Extracting MNIST_data/t10k-images-idx3-ubyte.gz\n",
      "Extracting MNIST_data/t10k-labels-idx1-ubyte.gz\n"
     ]
    }
   ],
   "source": [
    "mnist = input_data.read_data_sets(\"MNIST_data/\", one_hot=True)"
   ]
  },
  {
   "cell_type": "code",
   "execution_count": 4,
   "metadata": {},
   "outputs": [],
   "source": [
    "def weight_variable(shape):\n",
    "    initial = tf.truncated_normal(shape, stddev=0.1)\n",
    "    return tf.Variable(initial)\n",
    "\n",
    "def bias_variable(shape):\n",
    "    initial = tf.constant(0.1, shape=shape)\n",
    "    return tf.Variable(initial)\n",
    "\n",
    "def conv2d(X,W):\n",
    "    return tf.nn.conv2d(X, W, strides=[1,1,1,1], padding='SAME')\n",
    "\n",
    "def max_pool_2x2(X):\n",
    "    return tf.nn.max_pool(X, ksize=[1,2,2,1], strides=[1,2,2,1], padding='SAME')"
   ]
  },
  {
   "cell_type": "code",
   "execution_count": 5,
   "metadata": {},
   "outputs": [],
   "source": [
    "X = tf.placeholder(tf.float32, [None,784])\n",
    "y = tf.placeholder(tf.float32, [None,10])\n",
    "X_img = tf.reshape(X, [-1,28,28,1])\n",
    "\n",
    "W_conv1 = weight_variable([5,5,1,32])\n",
    "b_conv1 = bias_variable([32])\n",
    "h_conv1 = tf.nn.relu(conv2d(X_img, W_conv1)+b_conv1)\n",
    "h_pool1 = max_pool_2x2(h_conv1)\n",
    "\n",
    "W_conv2 = weight_variable([5,5,32,64])\n",
    "b_conv2 = bias_variable([64])\n",
    "h_conv2 = tf.nn.relu(conv2d(h_pool1, W_conv2)+b_conv2)\n",
    "h_pool2 = max_pool_2x2(h_conv2)\n",
    "\n",
    "w_fc1 = weight_variable([7*7*64, 1024])\n",
    "b_fc1 = bias_variable([1024])\n",
    "h_pool2_flat = tf.reshape(h_pool2, [-1, 7*7*64])\n",
    "h_fc1 = tf.nn.relu(tf.matmul(h_pool2_flat, w_fc1)+b_fc1)\n",
    "keep_prob = tf.placeholder(tf.float32)\n",
    "h_fc1_drop = tf.nn.dropout(h_fc1, keep_prob)\n",
    "\n",
    "W_fc2 = weight_variable([1024, 10])\n",
    "b_fc2 = bias_variable([10])\n",
    "y_conv = tf.nn.softmax(tf.matmul(h_fc1_drop, W_fc2)+b_fc2)\n",
    "\n",
    "cross_entropy = tf.reduce_mean(-tf.reduce_sum(y*tf.log(y_conv), axis=1))\n",
    "train_step = tf.train.AdamOptimizer(1e-4).minimize(cross_entropy)\n",
    "\n",
    "correct_prediction = tf.equal(tf.argmax(y_conv,1), tf.argmax(y,1))\n",
    "accuracy = tf.reduce_mean(tf.cast(correct_prediction, tf.float32))"
   ]
  },
  {
   "cell_type": "code",
   "execution_count": 30,
   "metadata": {
    "scrolled": true
   },
   "outputs": [
    {
     "name": "stdout",
     "output_type": "stream",
     "text": [
      "step: 0 cost: 0.00868 training_acc: 1.00000\n",
      "step: 100 cost: 0.02926 training_acc: 1.00000\n",
      "step: 200 cost: 0.11348 training_acc: 0.98000\n",
      "step: 300 cost: 0.09634 training_acc: 0.98000\n",
      "step: 400 cost: 0.02007 training_acc: 1.00000\n",
      "step: 500 cost: 0.02147 training_acc: 1.00000\n",
      "step: 600 cost: 0.01211 training_acc: 0.98000\n",
      "step: 700 cost: 0.03630 training_acc: 1.00000\n",
      "step: 800 cost: 0.08248 training_acc: 0.98000\n",
      "step: 900 cost: 0.02640 training_acc: 1.00000\n",
      "step: 1000 cost: 0.00878 training_acc: 1.00000\n",
      "step: 1100 cost: 0.00335 training_acc: 1.00000\n",
      "step: 1200 cost: 0.04176 training_acc: 1.00000\n",
      "step: 1300 cost: 0.00816 training_acc: 1.00000\n",
      "step: 1400 cost: 0.02230 training_acc: 0.98000\n",
      "step: 1500 cost: 0.05603 training_acc: 0.96000\n",
      "step: 1600 cost: 0.02433 training_acc: 1.00000\n",
      "step: 1700 cost: 0.07805 training_acc: 0.98000\n",
      "step: 1800 cost: 0.04753 training_acc: 1.00000\n",
      "step: 1900 cost: 0.03603 training_acc: 1.00000\n",
      "step: 2000 cost: 0.00274 training_acc: 1.00000\n",
      "step: 2100 cost: 0.01790 training_acc: 1.00000\n",
      "step: 2200 cost: 0.03554 training_acc: 0.98000\n",
      "step: 2300 cost: 0.02659 training_acc: 1.00000\n",
      "step: 2400 cost: 0.04848 training_acc: 1.00000\n",
      "step: 2500 cost: 0.02804 training_acc: 1.00000\n",
      "step: 2600 cost: 0.02375 training_acc: 1.00000\n",
      "step: 2700 cost: 0.00997 training_acc: 1.00000\n",
      "step: 2800 cost: 0.09002 training_acc: 1.00000\n",
      "step: 2900 cost: 0.03203 training_acc: 0.98000\n",
      "step: 3000 cost: 0.03094 training_acc: 1.00000\n",
      "step: 3100 cost: 0.03263 training_acc: 1.00000\n",
      "step: 3200 cost: 0.12773 training_acc: 0.98000\n",
      "step: 3300 cost: 0.00245 training_acc: 1.00000\n",
      "step: 3400 cost: 0.00649 training_acc: 1.00000\n",
      "step: 3500 cost: 0.07196 training_acc: 0.98000\n",
      "step: 3600 cost: 0.01918 training_acc: 1.00000\n",
      "step: 3700 cost: 0.16557 training_acc: 0.98000\n",
      "step: 3800 cost: 0.00815 training_acc: 1.00000\n",
      "step: 3900 cost: 0.00046 training_acc: 1.00000\n",
      "step: 4000 cost: 0.00129 training_acc: 1.00000\n",
      "step: 4100 cost: 0.00715 training_acc: 1.00000\n",
      "step: 4200 cost: 0.01775 training_acc: 1.00000\n",
      "step: 4300 cost: 0.08779 training_acc: 1.00000\n",
      "step: 4400 cost: 0.02379 training_acc: 1.00000\n",
      "step: 4500 cost: 0.04494 training_acc: 1.00000\n",
      "step: 4600 cost: 0.03641 training_acc: 0.98000\n",
      "step: 4700 cost: 0.00201 training_acc: 1.00000\n",
      "step: 4800 cost: 0.02028 training_acc: 1.00000\n",
      "step: 4900 cost: 0.12682 training_acc: 0.96000\n"
     ]
    }
   ],
   "source": [
    "#sess = tf.Session()\n",
    "#sess.run(tf.global_variables_initializer())\n",
    "for i in range(5000):\n",
    "    batch = mnist.train.next_batch(50)\n",
    "    _, cost = sess.run((train_step,cross_entropy), feed_dict={X:batch[0], y:batch[1], keep_prob:0.5})\n",
    "    if i%100 == 0:\n",
    "        train_accuracy = sess.run(accuracy, feed_dict={X:batch[0], y:batch[1], keep_prob:1.0})\n",
    "        print(\"step:\",'%d'%i,'cost:','%.5f'%cost,'training_acc:','%.5f'%train_accuracy)"
   ]
  },
  {
   "cell_type": "code",
   "execution_count": 31,
   "metadata": {},
   "outputs": [
    {
     "name": "stdout",
     "output_type": "stream",
     "text": [
      "test accuracy 0.98800\n"
     ]
    }
   ],
   "source": [
    "print('test accuracy %.5f'%sess.run(accuracy, feed_dict={X:mnist.test.images[:1000], y:mnist.test.labels[:1000], keep_prob:1.0}))"
   ]
  },
  {
   "cell_type": "code",
   "execution_count": null,
   "metadata": {},
   "outputs": [],
   "source": []
  }
 ],
 "metadata": {
  "kernelspec": {
   "display_name": "Python 3",
   "language": "python",
   "name": "python3"
  },
  "language_info": {
   "codemirror_mode": {
    "name": "ipython",
    "version": 3
   },
   "file_extension": ".py",
   "mimetype": "text/x-python",
   "name": "python",
   "nbconvert_exporter": "python",
   "pygments_lexer": "ipython3",
   "version": "3.6.8"
  }
 },
 "nbformat": 4,
 "nbformat_minor": 2
}
